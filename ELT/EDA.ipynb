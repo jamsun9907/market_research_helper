{
 "cells": [
  {
   "cell_type": "code",
   "execution_count": 25,
   "metadata": {
    "collapsed": true
   },
   "outputs": [
    {
     "name": "stdout",
     "output_type": "stream",
     "text": [
      "                        _id MODEL_NM    SERIAL_NO         SENSING_TIME  \\\n",
      "0  63b8310f70617e29c14e17b9  SDOT001  00000004063  2023-01-05_20:17:00   \n",
      "1  63b8310f70617e29c14e17ba  SDOT001  00000004061  2023-01-05_20:15:00   \n",
      "2  63b8310f70617e29c14e17bb  SDOT001  00000004060  2023-01-05_20:11:00   \n",
      "3  63b8310f70617e29c14e17bc  SDOT001  00000003023  2023-01-05_20:13:00   \n",
      "4  63b8310f70617e29c14e17bd  SDOT001  00000003018  2023-01-05_20:13:00   \n",
      "\n",
      "                REGION AUTONOMOUS_DISTRICT ADMINISTRATIVE_DISTRICT  \\\n",
      "0                parks    Seoul_Grand_Park          valet_parking2   \n",
      "1                parks    Seoul_Grand_Park          women_parking2   \n",
      "2                parks    Seoul_Grand_Park          women_parking1   \n",
      "3  traditional_markets         Jungnang-gu           Junghwa2-dong   \n",
      "4  traditional_markets         Jungnang-gu               Muk2-dong   \n",
      "\n",
      "  VISITOR_COUNT             REG_DTTM  \n",
      "0             0  2023-01-05 20:28:00  \n",
      "1             0  2023-01-05 20:28:00  \n",
      "2             0  2023-01-05 20:28:00  \n",
      "3           236  2023-01-05 20:28:00  \n",
      "4           138  2023-01-05 20:28:00  \n"
     ]
    }
   ],
   "source": [
    "import config\n",
    "import pandas as pd\n",
    "from pymongo import MongoClient\n",
    "\n",
    "# Replace the uri string with your MongoDB deployment's connection string.\n",
    "HOST = config.HOST\n",
    "USER = config.USER\n",
    "PASSWORD = config.PASSWORD\n",
    "DATABASE_NAME = 'CP1_DB'\n",
    "COLLECTION_NAME = 'population'\n",
    "MONGO_URI = f\"mongodb+srv://{USER}:{PASSWORD}@{HOST}/{DATABASE_NAME}?retryWrites=true&w=majority\"\n",
    "\n",
    "# 커넥션 접속 작업\n",
    "client = MongoClient(MONGO_URI)\n",
    "db = client[DATABASE_NAME] # Connection\n",
    "collection = db[COLLECTION_NAME] # Creating table\n",
    "\n",
    "# Converting cursor to the list of dictionaries\n",
    "cursor = collection.find()\n",
    "list_cur = list(cursor)\n",
    "df = pd.DataFrame(list_cur)\n",
    "\n",
    "# Printing the df to console\n",
    "print(df.head())\n",
    "\n",
    "# Close the connection to MongoDB when you're done.\n",
    "client.close()"
   ]
  },
  {
   "cell_type": "markdown",
   "source": [
    "## Transform data"
   ],
   "metadata": {
    "collapsed": false
   }
  },
  {
   "cell_type": "code",
   "execution_count": 26,
   "outputs": [],
   "source": [
    "# 필요한 컬럼만 정리\n",
    "df.drop(['_id','REG_DTTM'], axis=1,inplace=True)"
   ],
   "metadata": {
    "collapsed": false
   }
  },
  {
   "cell_type": "code",
   "execution_count": 27,
   "outputs": [
    {
     "name": "stdout",
     "output_type": "stream",
     "text": [
      "(103419, 7)\n",
      "(57221, 7)\n"
     ]
    }
   ],
   "source": [
    "# 중복값 처리\n",
    "print(df.shape)\n",
    "\n",
    "df_processed = df.drop_duplicates()\n",
    "print(df_processed.shape)"
   ],
   "metadata": {
    "collapsed": false
   }
  },
  {
   "cell_type": "code",
   "execution_count": 30,
   "outputs": [
    {
     "data": {
      "text/plain": "'MODEL_NM,SERIAL_NO,SENSING_TIME,REGION,AUTONOMOUS_DISTRICT,ADMINISTRATIVE_DISTRICT,VISITOR_COUNT'"
     },
     "execution_count": 30,
     "metadata": {},
     "output_type": "execute_result"
    }
   ],
   "source": [
    "','.join(df_processed.columns)"
   ],
   "metadata": {
    "collapsed": false
   }
  },
  {
   "cell_type": "code",
   "execution_count": 35,
   "outputs": [
    {
     "data": {
      "text/plain": "('SDOT001',\n '00000004063',\n '2023-01-05_20:17:00',\n 'parks',\n 'Seoul_Grand_Park',\n 'valet_parking2',\n '0')"
     },
     "execution_count": 35,
     "metadata": {},
     "output_type": "execute_result"
    }
   ],
   "source": [
    "tuple(df.iloc[0])"
   ],
   "metadata": {
    "collapsed": false
   }
  }
 ],
 "metadata": {
  "kernelspec": {
   "display_name": "Python 3",
   "language": "python",
   "name": "python3"
  },
  "language_info": {
   "codemirror_mode": {
    "name": "ipython",
    "version": 2
   },
   "file_extension": ".py",
   "mimetype": "text/x-python",
   "name": "python",
   "nbconvert_exporter": "python",
   "pygments_lexer": "ipython2",
   "version": "2.7.6"
  }
 },
 "nbformat": 4,
 "nbformat_minor": 0
}
