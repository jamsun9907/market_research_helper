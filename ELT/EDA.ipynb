{
 "cells": [
  {
   "cell_type": "code",
   "execution_count": 3,
   "metadata": {
    "collapsed": true
   },
   "outputs": [
    {
     "ename": "ConfigurationError",
     "evalue": "The DNS response does not contain an answer to the question: _mongodb._tcp.cluster0.1lslter.mongodb.net. IN SRV",
     "output_type": "error",
     "traceback": [
      "\u001B[1;31m---------------------------------------------------------------------------\u001B[0m",
      "\u001B[1;31mNoAnswer\u001B[0m                                  Traceback (most recent call last)",
      "File \u001B[1;32mC:\\Users\\jamsu\\AppData\\Local\\Programs\\Python\\Python310\\lib\\site-packages\\pymongo\\srv_resolver.py:89\u001B[0m, in \u001B[0;36m_SrvResolver._resolve_uri\u001B[1;34m(self, encapsulate_errors)\u001B[0m\n\u001B[0;32m     88\u001B[0m \u001B[38;5;28;01mtry\u001B[39;00m:\n\u001B[1;32m---> 89\u001B[0m     results \u001B[38;5;241m=\u001B[39m \u001B[43m_resolve\u001B[49m\u001B[43m(\u001B[49m\n\u001B[0;32m     90\u001B[0m \u001B[43m        \u001B[49m\u001B[38;5;124;43m\"\u001B[39;49m\u001B[38;5;124;43m_\u001B[39;49m\u001B[38;5;124;43m\"\u001B[39;49m\u001B[43m \u001B[49m\u001B[38;5;241;43m+\u001B[39;49m\u001B[43m \u001B[49m\u001B[38;5;28;43mself\u001B[39;49m\u001B[38;5;241;43m.\u001B[39;49m\u001B[43m__srv\u001B[49m\u001B[43m \u001B[49m\u001B[38;5;241;43m+\u001B[39;49m\u001B[43m \u001B[49m\u001B[38;5;124;43m\"\u001B[39;49m\u001B[38;5;124;43m._tcp.\u001B[39;49m\u001B[38;5;124;43m\"\u001B[39;49m\u001B[43m \u001B[49m\u001B[38;5;241;43m+\u001B[39;49m\u001B[43m \u001B[49m\u001B[38;5;28;43mself\u001B[39;49m\u001B[38;5;241;43m.\u001B[39;49m\u001B[43m__fqdn\u001B[49m\u001B[43m,\u001B[49m\u001B[43m \u001B[49m\u001B[38;5;124;43m\"\u001B[39;49m\u001B[38;5;124;43mSRV\u001B[39;49m\u001B[38;5;124;43m\"\u001B[39;49m\u001B[43m,\u001B[49m\u001B[43m \u001B[49m\u001B[43mlifetime\u001B[49m\u001B[38;5;241;43m=\u001B[39;49m\u001B[38;5;28;43mself\u001B[39;49m\u001B[38;5;241;43m.\u001B[39;49m\u001B[43m__connect_timeout\u001B[49m\n\u001B[0;32m     91\u001B[0m \u001B[43m    \u001B[49m\u001B[43m)\u001B[49m\n\u001B[0;32m     92\u001B[0m \u001B[38;5;28;01mexcept\u001B[39;00m \u001B[38;5;167;01mException\u001B[39;00m \u001B[38;5;28;01mas\u001B[39;00m exc:\n",
      "File \u001B[1;32mC:\\Users\\jamsu\\AppData\\Local\\Programs\\Python\\Python310\\lib\\site-packages\\pymongo\\srv_resolver.py:43\u001B[0m, in \u001B[0;36m_resolve\u001B[1;34m(*args, **kwargs)\u001B[0m\n\u001B[0;32m     41\u001B[0m \u001B[38;5;28;01mif\u001B[39;00m \u001B[38;5;28mhasattr\u001B[39m(resolver, \u001B[38;5;124m\"\u001B[39m\u001B[38;5;124mresolve\u001B[39m\u001B[38;5;124m\"\u001B[39m):\n\u001B[0;32m     42\u001B[0m     \u001B[38;5;66;03m# dnspython >= 2\u001B[39;00m\n\u001B[1;32m---> 43\u001B[0m     \u001B[38;5;28;01mreturn\u001B[39;00m resolver\u001B[38;5;241m.\u001B[39mresolve(\u001B[38;5;241m*\u001B[39margs, \u001B[38;5;241m*\u001B[39m\u001B[38;5;241m*\u001B[39mkwargs)\n\u001B[0;32m     44\u001B[0m \u001B[38;5;66;03m# dnspython 1.X\u001B[39;00m\n",
      "File \u001B[1;32mC:\\Users\\jamsu\\AppData\\Local\\Programs\\Python\\Python310\\lib\\site-packages\\dns\\resolver.py:1305\u001B[0m, in \u001B[0;36mresolve\u001B[1;34m(qname, rdtype, rdclass, tcp, source, raise_on_no_answer, source_port, lifetime, search)\u001B[0m\n\u001B[0;32m   1296\u001B[0m \u001B[38;5;124;03m\"\"\"Query nameservers to find the answer to the question.\u001B[39;00m\n\u001B[0;32m   1297\u001B[0m \n\u001B[0;32m   1298\u001B[0m \u001B[38;5;124;03mThis is a convenience function that uses the default resolver\u001B[39;00m\n\u001B[1;32m   (...)\u001B[0m\n\u001B[0;32m   1302\u001B[0m \u001B[38;5;124;03mparameters.\u001B[39;00m\n\u001B[0;32m   1303\u001B[0m \u001B[38;5;124;03m\"\"\"\u001B[39;00m\n\u001B[1;32m-> 1305\u001B[0m \u001B[38;5;28;01mreturn\u001B[39;00m \u001B[43mget_default_resolver\u001B[49m\u001B[43m(\u001B[49m\u001B[43m)\u001B[49m\u001B[38;5;241;43m.\u001B[39;49m\u001B[43mresolve\u001B[49m\u001B[43m(\u001B[49m\u001B[43mqname\u001B[49m\u001B[43m,\u001B[49m\u001B[43m \u001B[49m\u001B[43mrdtype\u001B[49m\u001B[43m,\u001B[49m\u001B[43m \u001B[49m\u001B[43mrdclass\u001B[49m\u001B[43m,\u001B[49m\u001B[43m \u001B[49m\u001B[43mtcp\u001B[49m\u001B[43m,\u001B[49m\u001B[43m \u001B[49m\u001B[43msource\u001B[49m\u001B[43m,\u001B[49m\n\u001B[0;32m   1306\u001B[0m \u001B[43m                                      \u001B[49m\u001B[43mraise_on_no_answer\u001B[49m\u001B[43m,\u001B[49m\u001B[43m \u001B[49m\u001B[43msource_port\u001B[49m\u001B[43m,\u001B[49m\n\u001B[0;32m   1307\u001B[0m \u001B[43m                                      \u001B[49m\u001B[43mlifetime\u001B[49m\u001B[43m,\u001B[49m\u001B[43m \u001B[49m\u001B[43msearch\u001B[49m\u001B[43m)\u001B[49m\n",
      "File \u001B[1;32mC:\\Users\\jamsu\\AppData\\Local\\Programs\\Python\\Python310\\lib\\site-packages\\dns\\resolver.py:1202\u001B[0m, in \u001B[0;36mResolver.resolve\u001B[1;34m(self, qname, rdtype, rdclass, tcp, source, raise_on_no_answer, source_port, lifetime, search)\u001B[0m\n\u001B[0;32m   1201\u001B[0m     \u001B[38;5;28;01mcontinue\u001B[39;00m\n\u001B[1;32m-> 1202\u001B[0m (answer, done) \u001B[38;5;241m=\u001B[39m \u001B[43mresolution\u001B[49m\u001B[38;5;241;43m.\u001B[39;49m\u001B[43mquery_result\u001B[49m\u001B[43m(\u001B[49m\u001B[43mresponse\u001B[49m\u001B[43m,\u001B[49m\u001B[43m \u001B[49m\u001B[38;5;28;43;01mNone\u001B[39;49;00m\u001B[43m)\u001B[49m\n\u001B[0;32m   1203\u001B[0m \u001B[38;5;66;03m# Note we need to say \"if answer is not None\" and not just\u001B[39;00m\n\u001B[0;32m   1204\u001B[0m \u001B[38;5;66;03m# \"if answer\" because answer implements __len__, and python\u001B[39;00m\n\u001B[0;32m   1205\u001B[0m \u001B[38;5;66;03m# will call that.  We want to return if we have an answer\u001B[39;00m\n\u001B[0;32m   1206\u001B[0m \u001B[38;5;66;03m# object, including in cases where its length is 0.\u001B[39;00m\n",
      "File \u001B[1;32mC:\\Users\\jamsu\\AppData\\Local\\Programs\\Python\\Python310\\lib\\site-packages\\dns\\resolver.py:674\u001B[0m, in \u001B[0;36m_Resolution.query_result\u001B[1;34m(self, response, ex)\u001B[0m\n\u001B[0;32m    673\u001B[0m \u001B[38;5;28;01mif\u001B[39;00m answer\u001B[38;5;241m.\u001B[39mrrset \u001B[38;5;129;01mis\u001B[39;00m \u001B[38;5;28;01mNone\u001B[39;00m \u001B[38;5;129;01mand\u001B[39;00m \u001B[38;5;28mself\u001B[39m\u001B[38;5;241m.\u001B[39mraise_on_no_answer:\n\u001B[1;32m--> 674\u001B[0m     \u001B[38;5;28;01mraise\u001B[39;00m NoAnswer(response\u001B[38;5;241m=\u001B[39manswer\u001B[38;5;241m.\u001B[39mresponse)\n\u001B[0;32m    675\u001B[0m \u001B[38;5;28;01mreturn\u001B[39;00m (answer, \u001B[38;5;28;01mTrue\u001B[39;00m)\n",
      "\u001B[1;31mNoAnswer\u001B[0m: The DNS response does not contain an answer to the question: _mongodb._tcp.cluster0.1lslter.mongodb.net. IN SRV",
      "\nDuring handling of the above exception, another exception occurred:\n",
      "\u001B[1;31mConfigurationError\u001B[0m                        Traceback (most recent call last)",
      "Input \u001B[1;32mIn [3]\u001B[0m, in \u001B[0;36m<cell line: 14>\u001B[1;34m()\u001B[0m\n\u001B[0;32m     11\u001B[0m MONGO_URI \u001B[38;5;241m=\u001B[39m \u001B[38;5;124mf\u001B[39m\u001B[38;5;124m\"\u001B[39m\u001B[38;5;124mmongodb+srv://\u001B[39m\u001B[38;5;132;01m{\u001B[39;00mUSER\u001B[38;5;132;01m}\u001B[39;00m\u001B[38;5;124m:\u001B[39m\u001B[38;5;132;01m{\u001B[39;00mPASSWORD\u001B[38;5;132;01m}\u001B[39;00m\u001B[38;5;124m@\u001B[39m\u001B[38;5;132;01m{\u001B[39;00mHOST\u001B[38;5;132;01m}\u001B[39;00m\u001B[38;5;124m/\u001B[39m\u001B[38;5;132;01m{\u001B[39;00mDATABASE_NAME\u001B[38;5;132;01m}\u001B[39;00m\u001B[38;5;124m?retryWrites=true&w=majority\u001B[39m\u001B[38;5;124m\"\u001B[39m\n\u001B[0;32m     13\u001B[0m \u001B[38;5;66;03m# 커넥션 접속 작업\u001B[39;00m\n\u001B[1;32m---> 14\u001B[0m client \u001B[38;5;241m=\u001B[39m \u001B[43mMongoClient\u001B[49m\u001B[43m(\u001B[49m\u001B[43mMONGO_URI\u001B[49m\u001B[43m)\u001B[49m\n\u001B[0;32m     15\u001B[0m db \u001B[38;5;241m=\u001B[39m client[DATABASE_NAME] \u001B[38;5;66;03m# Connection\u001B[39;00m\n\u001B[0;32m     16\u001B[0m collection \u001B[38;5;241m=\u001B[39m db[COLLECTION_NAME] \u001B[38;5;66;03m# Creating table\u001B[39;00m\n",
      "File \u001B[1;32mC:\\Users\\jamsu\\AppData\\Local\\Programs\\Python\\Python310\\lib\\site-packages\\pymongo\\mongo_client.py:736\u001B[0m, in \u001B[0;36mMongoClient.__init__\u001B[1;34m(self, host, port, document_class, tz_aware, connect, type_registry, **kwargs)\u001B[0m\n\u001B[0;32m    732\u001B[0m \u001B[38;5;28;01mif\u001B[39;00m timeout \u001B[38;5;129;01mis\u001B[39;00m \u001B[38;5;129;01mnot\u001B[39;00m \u001B[38;5;28;01mNone\u001B[39;00m:\n\u001B[0;32m    733\u001B[0m     timeout \u001B[38;5;241m=\u001B[39m common\u001B[38;5;241m.\u001B[39mvalidate_timeout_or_none_or_zero(\n\u001B[0;32m    734\u001B[0m         keyword_opts\u001B[38;5;241m.\u001B[39mcased_key(\u001B[38;5;124m\"\u001B[39m\u001B[38;5;124mconnecttimeoutms\u001B[39m\u001B[38;5;124m\"\u001B[39m), timeout\n\u001B[0;32m    735\u001B[0m     )\n\u001B[1;32m--> 736\u001B[0m res \u001B[38;5;241m=\u001B[39m \u001B[43muri_parser\u001B[49m\u001B[38;5;241;43m.\u001B[39;49m\u001B[43mparse_uri\u001B[49m\u001B[43m(\u001B[49m\n\u001B[0;32m    737\u001B[0m \u001B[43m    \u001B[49m\u001B[43mentity\u001B[49m\u001B[43m,\u001B[49m\n\u001B[0;32m    738\u001B[0m \u001B[43m    \u001B[49m\u001B[43mport\u001B[49m\u001B[43m,\u001B[49m\n\u001B[0;32m    739\u001B[0m \u001B[43m    \u001B[49m\u001B[43mvalidate\u001B[49m\u001B[38;5;241;43m=\u001B[39;49m\u001B[38;5;28;43;01mTrue\u001B[39;49;00m\u001B[43m,\u001B[49m\n\u001B[0;32m    740\u001B[0m \u001B[43m    \u001B[49m\u001B[43mwarn\u001B[49m\u001B[38;5;241;43m=\u001B[39;49m\u001B[38;5;28;43;01mTrue\u001B[39;49;00m\u001B[43m,\u001B[49m\n\u001B[0;32m    741\u001B[0m \u001B[43m    \u001B[49m\u001B[43mnormalize\u001B[49m\u001B[38;5;241;43m=\u001B[39;49m\u001B[38;5;28;43;01mFalse\u001B[39;49;00m\u001B[43m,\u001B[49m\n\u001B[0;32m    742\u001B[0m \u001B[43m    \u001B[49m\u001B[43mconnect_timeout\u001B[49m\u001B[38;5;241;43m=\u001B[39;49m\u001B[43mtimeout\u001B[49m\u001B[43m,\u001B[49m\n\u001B[0;32m    743\u001B[0m \u001B[43m    \u001B[49m\u001B[43msrv_service_name\u001B[49m\u001B[38;5;241;43m=\u001B[39;49m\u001B[43msrv_service_name\u001B[49m\u001B[43m,\u001B[49m\n\u001B[0;32m    744\u001B[0m \u001B[43m    \u001B[49m\u001B[43msrv_max_hosts\u001B[49m\u001B[38;5;241;43m=\u001B[39;49m\u001B[43msrv_max_hosts\u001B[49m\u001B[43m,\u001B[49m\n\u001B[0;32m    745\u001B[0m \u001B[43m\u001B[49m\u001B[43m)\u001B[49m\n\u001B[0;32m    746\u001B[0m seeds\u001B[38;5;241m.\u001B[39mupdate(res[\u001B[38;5;124m\"\u001B[39m\u001B[38;5;124mnodelist\u001B[39m\u001B[38;5;124m\"\u001B[39m])\n\u001B[0;32m    747\u001B[0m username \u001B[38;5;241m=\u001B[39m res[\u001B[38;5;124m\"\u001B[39m\u001B[38;5;124musername\u001B[39m\u001B[38;5;124m\"\u001B[39m] \u001B[38;5;129;01mor\u001B[39;00m username\n",
      "File \u001B[1;32mC:\\Users\\jamsu\\AppData\\Local\\Programs\\Python\\Python310\\lib\\site-packages\\pymongo\\uri_parser.py:542\u001B[0m, in \u001B[0;36mparse_uri\u001B[1;34m(uri, default_port, validate, warn, normalize, connect_timeout, srv_service_name, srv_max_hosts)\u001B[0m\n\u001B[0;32m    540\u001B[0m connect_timeout \u001B[38;5;241m=\u001B[39m connect_timeout \u001B[38;5;129;01mor\u001B[39;00m options\u001B[38;5;241m.\u001B[39mget(\u001B[38;5;124m\"\u001B[39m\u001B[38;5;124mconnectTimeoutMS\u001B[39m\u001B[38;5;124m\"\u001B[39m)\n\u001B[0;32m    541\u001B[0m dns_resolver \u001B[38;5;241m=\u001B[39m _SrvResolver(fqdn, connect_timeout, srv_service_name, srv_max_hosts)\n\u001B[1;32m--> 542\u001B[0m nodes \u001B[38;5;241m=\u001B[39m \u001B[43mdns_resolver\u001B[49m\u001B[38;5;241;43m.\u001B[39;49m\u001B[43mget_hosts\u001B[49m\u001B[43m(\u001B[49m\u001B[43m)\u001B[49m\n\u001B[0;32m    543\u001B[0m dns_options \u001B[38;5;241m=\u001B[39m dns_resolver\u001B[38;5;241m.\u001B[39mget_options()\n\u001B[0;32m    544\u001B[0m \u001B[38;5;28;01mif\u001B[39;00m dns_options:\n",
      "File \u001B[1;32mC:\\Users\\jamsu\\AppData\\Local\\Programs\\Python\\Python310\\lib\\site-packages\\pymongo\\srv_resolver.py:121\u001B[0m, in \u001B[0;36m_SrvResolver.get_hosts\u001B[1;34m(self)\u001B[0m\n\u001B[0;32m    120\u001B[0m \u001B[38;5;28;01mdef\u001B[39;00m \u001B[38;5;21mget_hosts\u001B[39m(\u001B[38;5;28mself\u001B[39m):\n\u001B[1;32m--> 121\u001B[0m     _, nodes \u001B[38;5;241m=\u001B[39m \u001B[38;5;28;43mself\u001B[39;49m\u001B[38;5;241;43m.\u001B[39;49m\u001B[43m_get_srv_response_and_hosts\u001B[49m\u001B[43m(\u001B[49m\u001B[38;5;28;43;01mTrue\u001B[39;49;00m\u001B[43m)\u001B[49m\n\u001B[0;32m    122\u001B[0m     \u001B[38;5;28;01mreturn\u001B[39;00m nodes\n",
      "File \u001B[1;32mC:\\Users\\jamsu\\AppData\\Local\\Programs\\Python\\Python310\\lib\\site-packages\\pymongo\\srv_resolver.py:101\u001B[0m, in \u001B[0;36m_SrvResolver._get_srv_response_and_hosts\u001B[1;34m(self, encapsulate_errors)\u001B[0m\n\u001B[0;32m    100\u001B[0m \u001B[38;5;28;01mdef\u001B[39;00m \u001B[38;5;21m_get_srv_response_and_hosts\u001B[39m(\u001B[38;5;28mself\u001B[39m, encapsulate_errors):\n\u001B[1;32m--> 101\u001B[0m     results \u001B[38;5;241m=\u001B[39m \u001B[38;5;28;43mself\u001B[39;49m\u001B[38;5;241;43m.\u001B[39;49m\u001B[43m_resolve_uri\u001B[49m\u001B[43m(\u001B[49m\u001B[43mencapsulate_errors\u001B[49m\u001B[43m)\u001B[49m\n\u001B[0;32m    103\u001B[0m     \u001B[38;5;66;03m# Construct address tuples\u001B[39;00m\n\u001B[0;32m    104\u001B[0m     nodes \u001B[38;5;241m=\u001B[39m [\n\u001B[0;32m    105\u001B[0m         (maybe_decode(res\u001B[38;5;241m.\u001B[39mtarget\u001B[38;5;241m.\u001B[39mto_text(omit_final_dot\u001B[38;5;241m=\u001B[39m\u001B[38;5;28;01mTrue\u001B[39;00m)), res\u001B[38;5;241m.\u001B[39mport) \u001B[38;5;28;01mfor\u001B[39;00m res \u001B[38;5;129;01min\u001B[39;00m results\n\u001B[0;32m    106\u001B[0m     ]\n",
      "File \u001B[1;32mC:\\Users\\jamsu\\AppData\\Local\\Programs\\Python\\Python310\\lib\\site-packages\\pymongo\\srv_resolver.py:97\u001B[0m, in \u001B[0;36m_SrvResolver._resolve_uri\u001B[1;34m(self, encapsulate_errors)\u001B[0m\n\u001B[0;32m     95\u001B[0m         \u001B[38;5;28;01mraise\u001B[39;00m\n\u001B[0;32m     96\u001B[0m     \u001B[38;5;66;03m# Else, raise all errors as ConfigurationError.\u001B[39;00m\n\u001B[1;32m---> 97\u001B[0m     \u001B[38;5;28;01mraise\u001B[39;00m ConfigurationError(\u001B[38;5;28mstr\u001B[39m(exc))\n\u001B[0;32m     98\u001B[0m \u001B[38;5;28;01mreturn\u001B[39;00m results\n",
      "\u001B[1;31mConfigurationError\u001B[0m: The DNS response does not contain an answer to the question: _mongodb._tcp.cluster0.1lslter.mongodb.net. IN SRV"
     ]
    }
   ],
   "source": [
    "import config\n",
    "import pandas as pd\n",
    "from pymongo import MongoClient\n",
    "\n",
    "# Replace the uri string with your MongoDB deployment's connection string.\n",
    "HOST = config.HOST\n",
    "USER = config.USER\n",
    "PASSWORD = config.PASSWORD\n",
    "DATABASE_NAME = 'CP1_DB'\n",
    "COLLECTION_NAME = 'population'\n",
    "MONGO_URI = f\"mongodb+srv://{USER}:{PASSWORD}@{HOST}/{DATABASE_NAME}?retryWrites=true&w=majority\"\n",
    "\n",
    "# 커넥션 접속 작업\n",
    "client = MongoClient(MONGO_URI)\n",
    "db = client[DATABASE_NAME] # Connection\n",
    "collection = db[COLLECTION_NAME] # Creating table\n",
    "\n",
    "# Converting cursor to the list of dictionaries\n",
    "cursor = collection.find()\n",
    "list_cur = list(cursor)\n",
    "df = pd.DataFrame(list_cur)\n",
    "\n",
    "# Printing the df to console\n",
    "print(df.head())\n",
    "\n",
    "# Close the connection to MongoDB when you're done.\n",
    "client.close()"
   ]
  },
  {
   "cell_type": "markdown",
   "source": [
    "## Transform data"
   ],
   "metadata": {
    "collapsed": false
   }
  },
  {
   "cell_type": "code",
   "execution_count": null,
   "outputs": [],
   "source": [
    "# 필요한 컬럼만 정리\n",
    "df.drop(['_id','REG_DTTM'], axis=1,inplace=True)"
   ],
   "metadata": {
    "collapsed": false
   }
  },
  {
   "cell_type": "code",
   "execution_count": null,
   "outputs": [],
   "source": [
    "# 중복값 처리\n",
    "print(df.shape)\n",
    "\n",
    "df_processed = df.drop_duplicates()\n",
    "print(df_processed.shape)"
   ],
   "metadata": {
    "collapsed": false
   }
  },
  {
   "cell_type": "code",
   "execution_count": null,
   "outputs": [],
   "source": [
    "','.join(df_processed.columns)"
   ],
   "metadata": {
    "collapsed": false
   }
  },
  {
   "cell_type": "code",
   "execution_count": null,
   "outputs": [],
   "source": [
    "tuple(df.iloc[0])"
   ],
   "metadata": {
    "collapsed": false
   }
  },
  {
   "cell_type": "markdown",
   "source": [],
   "metadata": {
    "collapsed": false
   }
  },
  {
   "cell_type": "markdown",
   "source": [
    "## 또다시, transform\n",
    "- 구, 동, 지역 한국어로 바꿔야 함"
   ],
   "metadata": {
    "collapsed": false
   }
  },
  {
   "cell_type": "code",
   "execution_count": null,
   "outputs": [],
   "source": [
    "from TL import get_mongo_data\n",
    "\n",
    "df = get_mongo_data()\n",
    "df.head()"
   ],
   "metadata": {
    "collapsed": false
   }
  },
  {
   "cell_type": "markdown",
   "source": [
    "가벼운 전처리"
   ],
   "metadata": {
    "collapsed": false
   }
  },
  {
   "cell_type": "code",
   "execution_count": null,
   "outputs": [],
   "source": [
    "# 중복값, 필요없는 컬럼 제거\n",
    "df.drop(['_id', 'REG_DTTM'], axis=1, inplace=True)\n",
    "df.drop_duplicates(inplace=True)"
   ],
   "metadata": {
    "collapsed": false
   }
  },
  {
   "cell_type": "markdown",
   "source": [
    "이상치 제거하기"
   ],
   "metadata": {
    "collapsed": false
   }
  },
  {
   "cell_type": "code",
   "execution_count": null,
   "outputs": [],
   "source": [
    "# 1. 이상한 row 제거하기\n",
    "# rows_drop = ['Seoul_Grand_Park']\n",
    "df[df['AUTONOMOUS_DISTRICT'] == 'Seoul_Grand_Park'].index"
   ],
   "metadata": {
    "collapsed": false
   }
  },
  {
   "cell_type": "code",
   "execution_count": null,
   "outputs": [],
   "source": [
    "# 제거\n",
    "print(df.shape)\n",
    "df.drop(df[df['AUTONOMOUS_DISTRICT'] == 'Seoul_Grand_Park'].index, inplace = True)\n",
    "df[df['AUTONOMOUS_DISTRICT'] == 'Seoul_Grand_Park']"
   ],
   "metadata": {
    "collapsed": false
   }
  },
  {
   "cell_type": "code",
   "execution_count": null,
   "outputs": [],
   "source": [
    "# 영어 동 이름 가공( 2동 같은 숫자 없애고 통합)\n",
    "# 1/ Sinjeong4-dong 없애야함\n",
    "# 2/ Deungchon-dong1 이런것도 없애야\n",
    "df['ADMINISTRATIVE_DISTRICT'].sample(30)"
   ],
   "metadata": {
    "collapsed": false
   }
  },
  {
   "cell_type": "code",
   "execution_count": null,
   "outputs": [],
   "source": [
    "# 위의 두가지 요건을 만족시키기 위해 정규표현식 사용\n",
    "\n",
    "df['ADMINISTRATIVE_DISTRICT'] = df['ADMINISTRATIVE_DISTRICT'].str.replace(r'\\d-', '-').str.replace(r'dong\\d', 'dong')"
   ],
   "metadata": {
    "collapsed": false
   }
  },
  {
   "cell_type": "code",
   "execution_count": null,
   "outputs": [],
   "source": [
    "# 제대로 변경되었는지 확인\n",
    "\n",
    "df['ADMINISTRATIVE_DISTRICT'].sample(10)"
   ],
   "metadata": {
    "collapsed": false
   }
  },
  {
   "cell_type": "code",
   "execution_count": null,
   "outputs": [],
   "source": [
    "# 또 이상한 데이터 있나 확인\n",
    "import pandas as pd\n",
    "pd.set_option('display.max_rows',80)\n",
    "df['ADMINISTRATIVE_DISTRICT'].value_counts()"
   ],
   "metadata": {
    "collapsed": false
   }
  },
  {
   "cell_type": "code",
   "execution_count": null,
   "outputs": [],
   "source": [
    "df[df['ADMINISTRATIVE_DISTRICT']=='Myeong-dong']"
   ],
   "metadata": {
    "collapsed": false
   }
  },
  {
   "cell_type": "markdown",
   "source": [
    "## 네이버 블로그 데이터 추출"
   ],
   "metadata": {
    "collapsed": false
   }
  },
  {
   "cell_type": "code",
   "execution_count": null,
   "outputs": [],
   "source": [
    "import requests\n",
    "import config as c\n",
    "\n",
    "keyword = '홍대 맛집'  # 필요할 경우 예외처리 추가\n",
    "display = 100  # 한 번에 표시할 검색 결과 개수 (네이버 기본값: 10, 최댓값: 100)\n",
    "\n",
    "API = f'https://openapi.naver.com/v1/search/blog.json?query={keyword}&display={display}'\n",
    "Client_ID = '_VDq_u85WMw1RIiLChsi'\n",
    "Client_Secret = 'HNoCcEOhg9'\n",
    "\n",
    "# API 데이터 추출\n",
    "raw_json = requests.get(API,\n",
    "                        params={'query': keyword, 'display':display},\n",
    "                        headers={'X-Naver-Client-Id':Client_ID,'X-Naver-Client-Secret':Client_Secret}\n",
    "                        )"
   ],
   "metadata": {
    "collapsed": false
   }
  },
  {
   "cell_type": "code",
   "execution_count": null,
   "outputs": [],
   "source": [
    "import json\n",
    "status = raw_json.status_code\n",
    "\n",
    "if status==200:\n",
    "    contents = json.loads(raw_json.text)\n",
    "\n",
    "    print('정상조회되었습니다. 100건 중 샘플 3건의 게시물을 불러옵니다.')\n",
    "    print(contents['items'][0:4])"
   ],
   "metadata": {
    "collapsed": false
   }
  },
  {
   "cell_type": "code",
   "execution_count": null,
   "outputs": [],
   "source": [
    "# Parsing\n",
    "data = contents['items']\n",
    "\n",
    "# tokenizing 할 텍스트들\n",
    "titles = [idx['title'] for idx in data]\n",
    "descriptions = [idx['description'] for idx in data]"
   ],
   "metadata": {
    "collapsed": false
   }
  },
  {
   "cell_type": "code",
   "execution_count": null,
   "outputs": [],
   "source": [
    "# 텍스트에서 전처리 함수 추가\n",
    "import re\n",
    "import random\n",
    "\n",
    "def processing(sentence):\n",
    "    # <b> 태그 제거 : 그런데 이런식으로 제거하는게 좀 비효율적으로 보인다. 좋은 방법이 없을까?\n",
    "    sentence = sentence.replace('<b>','').replace('</b>','').replace('&apos;','')\n",
    "\n",
    "    # 문자만 추출\n",
    "    pat = re.compile('[^\\w ]')\n",
    "    sent = re.sub(pat,'', sentence)\n",
    "    return sent\n",
    "\n",
    "test = random.randint(0,99)\n",
    "print(descriptions[test])\n",
    "print(processing(descriptions[test]))"
   ],
   "metadata": {
    "collapsed": false
   }
  },
  {
   "cell_type": "code",
   "execution_count": null,
   "outputs": [],
   "source": [
    "from kolnpy.tag import Mecap\n",
    "\n"
   ],
   "metadata": {
    "collapsed": false
   }
  }
 ],
 "metadata": {
  "kernelspec": {
   "display_name": "Python 3",
   "language": "python",
   "name": "python3"
  },
  "language_info": {
   "codemirror_mode": {
    "name": "ipython",
    "version": 2
   },
   "file_extension": ".py",
   "mimetype": "text/x-python",
   "name": "python",
   "nbconvert_exporter": "python",
   "pygments_lexer": "ipython2",
   "version": "2.7.6"
  }
 },
 "nbformat": 4,
 "nbformat_minor": 0
}
